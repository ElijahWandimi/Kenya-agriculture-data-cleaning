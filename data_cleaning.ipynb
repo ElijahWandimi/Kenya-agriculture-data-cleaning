{
 "cells": [
  {
   "cell_type": "code",
   "execution_count": 1,
   "metadata": {},
   "outputs": [],
   "source": [
    "import pandas as pd\n",
    "import matplotlib.pyplot as plt\n",
    "import seaborn as sns\n",
    "\n",
    "pd.set_option('display.max_columns', None)\n",
    "plt.style.use('ggplot')\n",
    "sns.set_style('darkgrid')"
   ]
  },
  {
   "cell_type": "code",
   "execution_count": 15,
   "metadata": {},
   "outputs": [
    {
     "name": "stdout",
     "output_type": "stream",
     "text": [
      "(18182, 14)\n"
     ]
    },
    {
     "data": {
      "text/html": [
       "<div>\n",
       "<style scoped>\n",
       "    .dataframe tbody tr th:only-of-type {\n",
       "        vertical-align: middle;\n",
       "    }\n",
       "\n",
       "    .dataframe tbody tr th {\n",
       "        vertical-align: top;\n",
       "    }\n",
       "\n",
       "    .dataframe thead th {\n",
       "        text-align: right;\n",
       "    }\n",
       "</style>\n",
       "<table border=\"1\" class=\"dataframe\">\n",
       "  <thead>\n",
       "    <tr style=\"text-align: right;\">\n",
       "      <th></th>\n",
       "      <th>Domain Code</th>\n",
       "      <th>Domain</th>\n",
       "      <th>Area Code (M49)</th>\n",
       "      <th>Area</th>\n",
       "      <th>Element Code</th>\n",
       "      <th>Element</th>\n",
       "      <th>Item Code (CPC)</th>\n",
       "      <th>Item</th>\n",
       "      <th>Year Code</th>\n",
       "      <th>Year</th>\n",
       "      <th>Unit</th>\n",
       "      <th>Value</th>\n",
       "      <th>Flag</th>\n",
       "      <th>Flag Description</th>\n",
       "    </tr>\n",
       "  </thead>\n",
       "  <tbody>\n",
       "    <tr>\n",
       "      <th>18180</th>\n",
       "      <td>QCL</td>\n",
       "      <td>Crops and livestock products</td>\n",
       "      <td>404</td>\n",
       "      <td>Kenya</td>\n",
       "      <td>5510</td>\n",
       "      <td>Production</td>\n",
       "      <td>1540</td>\n",
       "      <td>Yams</td>\n",
       "      <td>2020</td>\n",
       "      <td>2020</td>\n",
       "      <td>tonnes</td>\n",
       "      <td>8009.16</td>\n",
       "      <td>A</td>\n",
       "      <td>Official figure</td>\n",
       "    </tr>\n",
       "    <tr>\n",
       "      <th>18181</th>\n",
       "      <td>QCL</td>\n",
       "      <td>Crops and livestock products</td>\n",
       "      <td>404</td>\n",
       "      <td>Kenya</td>\n",
       "      <td>5510</td>\n",
       "      <td>Production</td>\n",
       "      <td>1540</td>\n",
       "      <td>Yams</td>\n",
       "      <td>2021</td>\n",
       "      <td>2021</td>\n",
       "      <td>tonnes</td>\n",
       "      <td>7669.00</td>\n",
       "      <td>A</td>\n",
       "      <td>Official figure</td>\n",
       "    </tr>\n",
       "  </tbody>\n",
       "</table>\n",
       "</div>"
      ],
      "text/plain": [
       "      Domain Code                        Domain  Area Code (M49)   Area  \\\n",
       "18180         QCL  Crops and livestock products              404  Kenya   \n",
       "18181         QCL  Crops and livestock products              404  Kenya   \n",
       "\n",
       "       Element Code     Element Item Code (CPC)  Item  Year Code  Year  \\\n",
       "18180          5510  Production            1540  Yams       2020  2020   \n",
       "18181          5510  Production            1540  Yams       2021  2021   \n",
       "\n",
       "         Unit    Value Flag Flag Description  \n",
       "18180  tonnes  8009.16    A  Official figure  \n",
       "18181  tonnes  7669.00    A  Official figure  "
      ]
     },
     "metadata": {},
     "output_type": "display_data"
    }
   ],
   "source": [
    "df = pd.read_excel('data/Kenyas_Agricultural_Production.xlsx')\n",
    "print(df.shape)\n",
    "display(df.tail(2))"
   ]
  },
  {
   "cell_type": "code",
   "execution_count": 16,
   "metadata": {},
   "outputs": [
    {
     "name": "stdout",
     "output_type": "stream",
     "text": [
      "<class 'pandas.core.frame.DataFrame'>\n",
      "RangeIndex: 18182 entries, 0 to 18181\n",
      "Data columns (total 14 columns):\n",
      " #   Column            Non-Null Count  Dtype  \n",
      "---  ------            --------------  -----  \n",
      " 0   Domain Code       18182 non-null  object \n",
      " 1   Domain            18182 non-null  object \n",
      " 2   Area Code (M49)   18182 non-null  int64  \n",
      " 3   Area              18182 non-null  object \n",
      " 4   Element Code      18182 non-null  int64  \n",
      " 5   Element           18182 non-null  object \n",
      " 6   Item Code (CPC)   18182 non-null  object \n",
      " 7   Item              18182 non-null  object \n",
      " 8   Year Code         18182 non-null  int64  \n",
      " 9   Year              18182 non-null  int64  \n",
      " 10  Unit              18182 non-null  object \n",
      " 11  Value             18182 non-null  float64\n",
      " 12  Flag              18182 non-null  object \n",
      " 13  Flag Description  18182 non-null  object \n",
      "dtypes: float64(1), int64(4), object(9)\n",
      "memory usage: 1.9+ MB\n"
     ]
    }
   ],
   "source": [
    "df.info()"
   ]
  },
  {
   "cell_type": "code",
   "execution_count": 17,
   "metadata": {},
   "outputs": [
    {
     "data": {
      "text/plain": [
       "0"
      ]
     },
     "execution_count": 17,
     "metadata": {},
     "output_type": "execute_result"
    }
   ],
   "source": [
    "df.duplicated().sum()"
   ]
  },
  {
   "cell_type": "code",
   "execution_count": 18,
   "metadata": {},
   "outputs": [],
   "source": [
    "df.rename(columns={'Item Code (CPC)': 'Item_code_cpc', \n",
    "                   'Area Code (M49)': 'Area_code_m49',\n",
    "                   'Domain Code': 'Domain_code',\n",
    "                   'Element Code': 'Element_code',\n",
    "                   'Flag Description': 'Flag_description'},\n",
    "                   inplace=True)"
   ]
  },
  {
   "cell_type": "code",
   "execution_count": 19,
   "metadata": {},
   "outputs": [
    {
     "data": {
      "text/plain": [
       "dtype('O')"
      ]
     },
     "execution_count": 19,
     "metadata": {},
     "output_type": "execute_result"
    }
   ],
   "source": [
    "df['Area'].dtype"
   ]
  },
  {
   "cell_type": "code",
   "execution_count": 20,
   "metadata": {},
   "outputs": [],
   "source": [
    "#  change data types to correct types\n",
    "for col in df.columns:\n",
    "    if df[col].dtype == 'O':\n",
    "        df[col] = df[col].astype('category') "
   ]
  },
  {
   "cell_type": "code",
   "execution_count": 21,
   "metadata": {},
   "outputs": [
    {
     "name": "stdout",
     "output_type": "stream",
     "text": [
      "<class 'pandas.core.frame.DataFrame'>\n",
      "RangeIndex: 18182 entries, 0 to 18181\n",
      "Data columns (total 14 columns):\n",
      " #   Column            Non-Null Count  Dtype   \n",
      "---  ------            --------------  -----   \n",
      " 0   Domain_code       18182 non-null  category\n",
      " 1   Domain            18182 non-null  category\n",
      " 2   Area_code_m49     18182 non-null  int64   \n",
      " 3   Area              18182 non-null  category\n",
      " 4   Element_code      18182 non-null  int64   \n",
      " 5   Element           18182 non-null  category\n",
      " 6   Item_code_cpc     18182 non-null  category\n",
      " 7   Item              18182 non-null  category\n",
      " 8   Year Code         18182 non-null  int64   \n",
      " 9   Year              18182 non-null  int64   \n",
      " 10  Unit              18182 non-null  category\n",
      " 11  Value             18182 non-null  float64 \n",
      " 12  Flag              18182 non-null  category\n",
      " 13  Flag_description  18182 non-null  category\n",
      "dtypes: category(9), float64(1), int64(4)\n",
      "memory usage: 917.7 KB\n"
     ]
    }
   ],
   "source": [
    "df.info()"
   ]
  },
  {
   "cell_type": "code",
   "execution_count": 24,
   "metadata": {},
   "outputs": [
    {
     "name": "stdout",
     "output_type": "stream",
     "text": [
      "Domain_code has 1 unique values\n",
      "Domain has 1 unique values\n",
      "Area has 1 unique values\n",
      "Element has 9 unique values\n",
      "Item_code_cpc has 150 unique values\n",
      "Item has 150 unique values\n",
      "Unit has 12 unique values\n",
      "Flag has 5 unique values\n",
      "Flag_description has 5 unique values\n"
     ]
    }
   ],
   "source": [
    "for col in df.columns:\n",
    "    if df[col].dtype == 'category':\n",
    "        print(f\"{col} has {df[col].nunique()} unique values\")"
   ]
  },
  {
   "cell_type": "code",
   "execution_count": 29,
   "metadata": {},
   "outputs": [
    {
     "name": "stdout",
     "output_type": "stream",
     "text": [
      "Domain_code: ['QCL']\n",
      "Categories (1, object): ['QCL']\n",
      "Domain: ['Crops and livestock products']\n",
      "Categories (1, object): ['Crops and livestock products']\n",
      "Area: ['Kenya']\n",
      "Categories (1, object): ['Kenya']\n"
     ]
    }
   ],
   "source": [
    "for col in ['Domain_code', 'Domain', 'Area']:\n",
    "    print(f\"{col}: {df[col].unique()}\")"
   ]
  },
  {
   "cell_type": "code",
   "execution_count": 30,
   "metadata": {},
   "outputs": [
    {
     "data": {
      "text/plain": [
       "array([404])"
      ]
     },
     "execution_count": 30,
     "metadata": {},
     "output_type": "execute_result"
    }
   ],
   "source": [
    "df['Area_code_m49'].unique()"
   ]
  },
  {
   "cell_type": "code",
   "execution_count": 32,
   "metadata": {},
   "outputs": [],
   "source": [
    "df.drop(['Year Code', 'Domain_code', 'Domain', 'Area', 'Area_code_m49'], axis=1, inplace=True)"
   ]
  },
  {
   "cell_type": "code",
   "execution_count": 33,
   "metadata": {},
   "outputs": [
    {
     "data": {
      "text/html": [
       "<div>\n",
       "<style scoped>\n",
       "    .dataframe tbody tr th:only-of-type {\n",
       "        vertical-align: middle;\n",
       "    }\n",
       "\n",
       "    .dataframe tbody tr th {\n",
       "        vertical-align: top;\n",
       "    }\n",
       "\n",
       "    .dataframe thead th {\n",
       "        text-align: right;\n",
       "    }\n",
       "</style>\n",
       "<table border=\"1\" class=\"dataframe\">\n",
       "  <thead>\n",
       "    <tr style=\"text-align: right;\">\n",
       "      <th></th>\n",
       "      <th>Element_code</th>\n",
       "      <th>Year</th>\n",
       "      <th>Value</th>\n",
       "    </tr>\n",
       "  </thead>\n",
       "  <tbody>\n",
       "    <tr>\n",
       "      <th>count</th>\n",
       "      <td>18182.000000</td>\n",
       "      <td>18182.000000</td>\n",
       "      <td>1.818200e+04</td>\n",
       "    </tr>\n",
       "    <tr>\n",
       "      <th>mean</th>\n",
       "      <td>5413.666538</td>\n",
       "      <td>1994.152513</td>\n",
       "      <td>3.257563e+05</td>\n",
       "    </tr>\n",
       "    <tr>\n",
       "      <th>std</th>\n",
       "      <td>96.653696</td>\n",
       "      <td>17.136119</td>\n",
       "      <td>1.501639e+06</td>\n",
       "    </tr>\n",
       "    <tr>\n",
       "      <th>min</th>\n",
       "      <td>5111.000000</td>\n",
       "      <td>1961.000000</td>\n",
       "      <td>0.000000e+00</td>\n",
       "    </tr>\n",
       "    <tr>\n",
       "      <th>25%</th>\n",
       "      <td>5312.000000</td>\n",
       "      <td>1980.000000</td>\n",
       "      <td>2.100000e+03</td>\n",
       "    </tr>\n",
       "    <tr>\n",
       "      <th>50%</th>\n",
       "      <td>5419.000000</td>\n",
       "      <td>1996.000000</td>\n",
       "      <td>1.300000e+04</td>\n",
       "    </tr>\n",
       "    <tr>\n",
       "      <th>75%</th>\n",
       "      <td>5510.000000</td>\n",
       "      <td>2009.000000</td>\n",
       "      <td>8.505925e+04</td>\n",
       "    </tr>\n",
       "    <tr>\n",
       "      <th>max</th>\n",
       "      <td>5513.000000</td>\n",
       "      <td>2021.000000</td>\n",
       "      <td>3.602118e+07</td>\n",
       "    </tr>\n",
       "  </tbody>\n",
       "</table>\n",
       "</div>"
      ],
      "text/plain": [
       "       Element_code          Year         Value\n",
       "count  18182.000000  18182.000000  1.818200e+04\n",
       "mean    5413.666538   1994.152513  3.257563e+05\n",
       "std       96.653696     17.136119  1.501639e+06\n",
       "min     5111.000000   1961.000000  0.000000e+00\n",
       "25%     5312.000000   1980.000000  2.100000e+03\n",
       "50%     5419.000000   1996.000000  1.300000e+04\n",
       "75%     5510.000000   2009.000000  8.505925e+04\n",
       "max     5513.000000   2021.000000  3.602118e+07"
      ]
     },
     "execution_count": 33,
     "metadata": {},
     "output_type": "execute_result"
    }
   ],
   "source": [
    "df.describe()"
   ]
  },
  {
   "cell_type": "code",
   "execution_count": 34,
   "metadata": {},
   "outputs": [],
   "source": [
    "#  Write metadata to xml file\n",
    "with open('data/metadata.xml', 'w') as f:\n",
    "    #  title and description\n",
    "    f.write('<metadata>\\n')\n",
    "    f.write('\\t<title>Kenyas Crops and Livestock Production</title>\\n')\n",
    "    f.write('\\t<description>150 crops and livestock products data dating 1961 - 2021.</description>\\n')\n",
    "    #  closing tag\n",
    "    f.write('</metadata>')\n",
    "    # close file\n",
    "    f.close()\n",
    "\n",
    "#  Write data to csv file\n",
    "df.to_csv('data/Kenyas_Agricultural_Production.csv', index=False)"
   ]
  },
  {
   "cell_type": "code",
   "execution_count": null,
   "metadata": {},
   "outputs": [],
   "source": []
  }
 ],
 "metadata": {
  "kernelspec": {
   "display_name": "env",
   "language": "python",
   "name": "python3"
  },
  "language_info": {
   "codemirror_mode": {
    "name": "ipython",
    "version": 3
   },
   "file_extension": ".py",
   "mimetype": "text/x-python",
   "name": "python",
   "nbconvert_exporter": "python",
   "pygments_lexer": "ipython3",
   "version": "3.11.5"
  },
  "orig_nbformat": 4
 },
 "nbformat": 4,
 "nbformat_minor": 2
}
